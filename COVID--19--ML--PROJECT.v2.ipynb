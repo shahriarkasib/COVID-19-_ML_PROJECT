{
 "cells": [
  {
   "cell_type": "code",
   "execution_count": 1,
   "metadata": {},
   "outputs": [],
   "source": [
    "import numpy as np\n",
    "import pandas as pd\n",
    "import seaborn as sns\n",
    "from sklearn.model_selection import train_test_split\n",
    "from sklearn.linear_model import LinearRegression,ElasticNet\n",
    "from sklearn.svm import SVR\n",
    "from sklearn.preprocessing import PolynomialFeatures\n",
    "from sklearn.metrics import r2_score,mean_absolute_error\n",
    "import sklearn\n",
    "import math\n",
    "import numpy as np, pandas as pd\n",
    "from statsmodels.graphics.tsaplots import plot_acf, plot_pacf\n",
    "import matplotlib.pyplot as plt\n",
    "from sklearn.linear_model import Ridge, RidgeCV, ElasticNet, LassoCV, LassoLarsCV,Lasso\n",
    "from sklearn.model_selection import cross_val_score\n",
    "import warnings\n",
    "warnings.filterwarnings(\"ignore\")"
   ]
  },
  {
   "cell_type": "code",
   "execution_count": 2,
   "metadata": {},
   "outputs": [
    {
     "data": {
      "text/html": [
       "<div>\n",
       "<style scoped>\n",
       "    .dataframe tbody tr th:only-of-type {\n",
       "        vertical-align: middle;\n",
       "    }\n",
       "\n",
       "    .dataframe tbody tr th {\n",
       "        vertical-align: top;\n",
       "    }\n",
       "\n",
       "    .dataframe thead th {\n",
       "        text-align: right;\n",
       "    }\n",
       "</style>\n",
       "<table border=\"1\" class=\"dataframe\">\n",
       "  <thead>\n",
       "    <tr style=\"text-align: right;\">\n",
       "      <th></th>\n",
       "      <th>Date</th>\n",
       "      <th>Confirmed</th>\n",
       "      <th>Deaths</th>\n",
       "      <th>Country</th>\n",
       "    </tr>\n",
       "  </thead>\n",
       "  <tbody>\n",
       "    <tr>\n",
       "      <th>0</th>\n",
       "      <td>2020-04-10</td>\n",
       "      <td>61</td>\n",
       "      <td>1</td>\n",
       "      <td>Afghanistan</td>\n",
       "    </tr>\n",
       "    <tr>\n",
       "      <th>1</th>\n",
       "      <td>2020-04-09</td>\n",
       "      <td>56</td>\n",
       "      <td>3</td>\n",
       "      <td>Afghanistan</td>\n",
       "    </tr>\n",
       "    <tr>\n",
       "      <th>2</th>\n",
       "      <td>2020-04-08</td>\n",
       "      <td>30</td>\n",
       "      <td>4</td>\n",
       "      <td>Afghanistan</td>\n",
       "    </tr>\n",
       "    <tr>\n",
       "      <th>3</th>\n",
       "      <td>2020-04-07</td>\n",
       "      <td>38</td>\n",
       "      <td>0</td>\n",
       "      <td>Afghanistan</td>\n",
       "    </tr>\n",
       "    <tr>\n",
       "      <th>4</th>\n",
       "      <td>2020-04-06</td>\n",
       "      <td>29</td>\n",
       "      <td>2</td>\n",
       "      <td>Afghanistan</td>\n",
       "    </tr>\n",
       "  </tbody>\n",
       "</table>\n",
       "</div>"
      ],
      "text/plain": [
       "        Date  Confirmed  Deaths      Country\n",
       "0 2020-04-10         61       1  Afghanistan\n",
       "1 2020-04-09         56       3  Afghanistan\n",
       "2 2020-04-08         30       4  Afghanistan\n",
       "3 2020-04-07         38       0  Afghanistan\n",
       "4 2020-04-06         29       2  Afghanistan"
      ]
     },
     "execution_count": 2,
     "metadata": {},
     "output_type": "execute_result"
    }
   ],
   "source": [
    "frame=pd.read_excel(\"COVID-19.xlsx\")\n",
    "frame.drop([\"geoId\",\"day\",\"month\",\"year\",\"countryterritoryCode\"],axis=1,inplace=True)\n",
    "frame.columns=[[\"Date\",\"Confirmed\",\"Deaths\",\"Country\",\"Population\"]]\n",
    "frame.drop(\"Population\",axis=1,inplace=True)\n",
    "frame.columns = frame.columns.get_level_values(0)\n",
    "frame[\"Date\"]=pd.to_datetime(frame[\"Date\"],format=\"%d/%m/%Y\")\n",
    "frame.head()\n"
   ]
  },
  {
   "cell_type": "code",
   "execution_count": 3,
   "metadata": {},
   "outputs": [
    {
     "data": {
      "text/plain": [
       "Date         datetime64[ns]\n",
       "Confirmed             int64\n",
       "Deaths                int64\n",
       "Country              object\n",
       "dtype: object"
      ]
     },
     "execution_count": 3,
     "metadata": {},
     "output_type": "execute_result"
    }
   ],
   "source": [
    "frame.dtypes\n"
   ]
  },
  {
   "cell_type": "code",
   "execution_count": 4,
   "metadata": {},
   "outputs": [
    {
     "name": "stdout",
     "output_type": "stream",
     "text": [
      "<class 'pandas.core.frame.DataFrame'>\n",
      "RangeIndex: 9922 entries, 0 to 9921\n",
      "Data columns (total 4 columns):\n",
      "Date         9922 non-null datetime64[ns]\n",
      "Confirmed    9922 non-null int64\n",
      "Deaths       9922 non-null int64\n",
      "Country      9922 non-null object\n",
      "dtypes: datetime64[ns](1), int64(2), object(1)\n",
      "memory usage: 310.1+ KB\n"
     ]
    }
   ],
   "source": [
    "frame.info()"
   ]
  },
  {
   "cell_type": "code",
   "execution_count": 5,
   "metadata": {},
   "outputs": [
    {
     "data": {
      "text/html": [
       "<div>\n",
       "<style scoped>\n",
       "    .dataframe tbody tr th:only-of-type {\n",
       "        vertical-align: middle;\n",
       "    }\n",
       "\n",
       "    .dataframe tbody tr th {\n",
       "        vertical-align: top;\n",
       "    }\n",
       "\n",
       "    .dataframe thead th {\n",
       "        text-align: right;\n",
       "    }\n",
       "</style>\n",
       "<table border=\"1\" class=\"dataframe\">\n",
       "  <thead>\n",
       "    <tr style=\"text-align: right;\">\n",
       "      <th></th>\n",
       "      <th>Date</th>\n",
       "      <th>Confirmed</th>\n",
       "      <th>Deaths</th>\n",
       "      <th>Country</th>\n",
       "    </tr>\n",
       "  </thead>\n",
       "  <tbody>\n",
       "    <tr>\n",
       "      <th>91</th>\n",
       "      <td>2019-12-31</td>\n",
       "      <td>0</td>\n",
       "      <td>0</td>\n",
       "      <td>Afghanistan</td>\n",
       "    </tr>\n",
       "    <tr>\n",
       "      <th>90</th>\n",
       "      <td>2020-01-01</td>\n",
       "      <td>0</td>\n",
       "      <td>0</td>\n",
       "      <td>Afghanistan</td>\n",
       "    </tr>\n",
       "    <tr>\n",
       "      <th>89</th>\n",
       "      <td>2020-01-02</td>\n",
       "      <td>0</td>\n",
       "      <td>0</td>\n",
       "      <td>Afghanistan</td>\n",
       "    </tr>\n",
       "    <tr>\n",
       "      <th>88</th>\n",
       "      <td>2020-01-03</td>\n",
       "      <td>0</td>\n",
       "      <td>0</td>\n",
       "      <td>Afghanistan</td>\n",
       "    </tr>\n",
       "    <tr>\n",
       "      <th>87</th>\n",
       "      <td>2020-01-04</td>\n",
       "      <td>0</td>\n",
       "      <td>0</td>\n",
       "      <td>Afghanistan</td>\n",
       "    </tr>\n",
       "  </tbody>\n",
       "</table>\n",
       "</div>"
      ],
      "text/plain": [
       "         Date  Confirmed  Deaths      Country\n",
       "91 2019-12-31          0       0  Afghanistan\n",
       "90 2020-01-01          0       0  Afghanistan\n",
       "89 2020-01-02          0       0  Afghanistan\n",
       "88 2020-01-03          0       0  Afghanistan\n",
       "87 2020-01-04          0       0  Afghanistan"
      ]
     },
     "execution_count": 5,
     "metadata": {},
     "output_type": "execute_result"
    }
   ],
   "source": [
    "frame=frame.sort_values(by=[\"Country\",\"Date\"])\n",
    "frame.head()"
   ]
  },
  {
   "cell_type": "code",
   "execution_count": 6,
   "metadata": {},
   "outputs": [],
   "source": [
    "frame[\"Total_Confirmed\"]=frame.groupby(\"Country\")[\"Confirmed\"].cumsum()\n",
    "frame[\"Total_Deaths\"]=frame.groupby(\"Country\")[\"Deaths\"].cumsum()\n",
    "\n"
   ]
  },
  {
   "cell_type": "code",
   "execution_count": 7,
   "metadata": {},
   "outputs": [],
   "source": [
    "df_Bangladesh=frame[frame[\"Country\"]==\"Bangladesh\"]\n",
    "df_world=frame[frame[\"Country\"]!=\"Bangladesh\"]"
   ]
  },
  {
   "cell_type": "code",
   "execution_count": 8,
   "metadata": {},
   "outputs": [
    {
     "data": {
      "text/html": [
       "<div>\n",
       "<style scoped>\n",
       "    .dataframe tbody tr th:only-of-type {\n",
       "        vertical-align: middle;\n",
       "    }\n",
       "\n",
       "    .dataframe tbody tr th {\n",
       "        vertical-align: top;\n",
       "    }\n",
       "\n",
       "    .dataframe thead th {\n",
       "        text-align: right;\n",
       "    }\n",
       "</style>\n",
       "<table border=\"1\" class=\"dataframe\">\n",
       "  <thead>\n",
       "    <tr style=\"text-align: right;\">\n",
       "      <th></th>\n",
       "      <th>Date</th>\n",
       "      <th>Confirmed</th>\n",
       "      <th>Deaths</th>\n",
       "      <th>Country</th>\n",
       "      <th>Total_Confirmed</th>\n",
       "      <th>Total_Deaths</th>\n",
       "    </tr>\n",
       "  </thead>\n",
       "  <tbody>\n",
       "    <tr>\n",
       "      <th>882</th>\n",
       "      <td>2020-04-06</td>\n",
       "      <td>35</td>\n",
       "      <td>1</td>\n",
       "      <td>Bangladesh</td>\n",
       "      <td>123</td>\n",
       "      <td>9</td>\n",
       "    </tr>\n",
       "    <tr>\n",
       "      <th>881</th>\n",
       "      <td>2020-04-07</td>\n",
       "      <td>41</td>\n",
       "      <td>3</td>\n",
       "      <td>Bangladesh</td>\n",
       "      <td>164</td>\n",
       "      <td>12</td>\n",
       "    </tr>\n",
       "    <tr>\n",
       "      <th>880</th>\n",
       "      <td>2020-04-08</td>\n",
       "      <td>54</td>\n",
       "      <td>5</td>\n",
       "      <td>Bangladesh</td>\n",
       "      <td>218</td>\n",
       "      <td>17</td>\n",
       "    </tr>\n",
       "    <tr>\n",
       "      <th>879</th>\n",
       "      <td>2020-04-09</td>\n",
       "      <td>112</td>\n",
       "      <td>3</td>\n",
       "      <td>Bangladesh</td>\n",
       "      <td>330</td>\n",
       "      <td>20</td>\n",
       "    </tr>\n",
       "    <tr>\n",
       "      <th>878</th>\n",
       "      <td>2020-04-10</td>\n",
       "      <td>94</td>\n",
       "      <td>1</td>\n",
       "      <td>Bangladesh</td>\n",
       "      <td>424</td>\n",
       "      <td>21</td>\n",
       "    </tr>\n",
       "  </tbody>\n",
       "</table>\n",
       "</div>"
      ],
      "text/plain": [
       "          Date  Confirmed  Deaths     Country  Total_Confirmed  Total_Deaths\n",
       "882 2020-04-06         35       1  Bangladesh              123             9\n",
       "881 2020-04-07         41       3  Bangladesh              164            12\n",
       "880 2020-04-08         54       5  Bangladesh              218            17\n",
       "879 2020-04-09        112       3  Bangladesh              330            20\n",
       "878 2020-04-10         94       1  Bangladesh              424            21"
      ]
     },
     "execution_count": 8,
     "metadata": {},
     "output_type": "execute_result"
    }
   ],
   "source": [
    "df_Bangladesh.tail()"
   ]
  },
  {
   "cell_type": "code",
   "execution_count": 9,
   "metadata": {},
   "outputs": [],
   "source": [
    "df_world=df_world[df_world[\"Total_Confirmed\"]>0]"
   ]
  },
  {
   "cell_type": "code",
   "execution_count": 10,
   "metadata": {},
   "outputs": [],
   "source": [
    "df_world['Days'] = (df_world['Date'] - df_world.groupby('Country')['Date'].transform('first'))\n",
    "df_Bangladesh['Days'] = (df_Bangladesh['Date'] - df_Bangladesh.groupby('Country')['Date'].transform('first'))"
   ]
  },
  {
   "cell_type": "code",
   "execution_count": 11,
   "metadata": {},
   "outputs": [
    {
     "data": {
      "text/html": [
       "<div>\n",
       "<style scoped>\n",
       "    .dataframe tbody tr th:only-of-type {\n",
       "        vertical-align: middle;\n",
       "    }\n",
       "\n",
       "    .dataframe tbody tr th {\n",
       "        vertical-align: top;\n",
       "    }\n",
       "\n",
       "    .dataframe thead th {\n",
       "        text-align: right;\n",
       "    }\n",
       "</style>\n",
       "<table border=\"1\" class=\"dataframe\">\n",
       "  <thead>\n",
       "    <tr style=\"text-align: right;\">\n",
       "      <th></th>\n",
       "      <th>Date</th>\n",
       "      <th>Confirmed</th>\n",
       "      <th>Deaths</th>\n",
       "      <th>Country</th>\n",
       "      <th>Total_Confirmed</th>\n",
       "      <th>Total_Deaths</th>\n",
       "      <th>Days</th>\n",
       "    </tr>\n",
       "  </thead>\n",
       "  <tbody>\n",
       "    <tr>\n",
       "      <th>904</th>\n",
       "      <td>2020-03-09</td>\n",
       "      <td>3</td>\n",
       "      <td>0</td>\n",
       "      <td>Bangladesh</td>\n",
       "      <td>3</td>\n",
       "      <td>0</td>\n",
       "      <td>0 days</td>\n",
       "    </tr>\n",
       "    <tr>\n",
       "      <th>903</th>\n",
       "      <td>2020-03-15</td>\n",
       "      <td>0</td>\n",
       "      <td>0</td>\n",
       "      <td>Bangladesh</td>\n",
       "      <td>3</td>\n",
       "      <td>0</td>\n",
       "      <td>6 days</td>\n",
       "    </tr>\n",
       "    <tr>\n",
       "      <th>902</th>\n",
       "      <td>2020-03-17</td>\n",
       "      <td>2</td>\n",
       "      <td>0</td>\n",
       "      <td>Bangladesh</td>\n",
       "      <td>5</td>\n",
       "      <td>0</td>\n",
       "      <td>8 days</td>\n",
       "    </tr>\n",
       "    <tr>\n",
       "      <th>901</th>\n",
       "      <td>2020-03-18</td>\n",
       "      <td>3</td>\n",
       "      <td>0</td>\n",
       "      <td>Bangladesh</td>\n",
       "      <td>8</td>\n",
       "      <td>0</td>\n",
       "      <td>9 days</td>\n",
       "    </tr>\n",
       "    <tr>\n",
       "      <th>900</th>\n",
       "      <td>2020-03-19</td>\n",
       "      <td>2</td>\n",
       "      <td>0</td>\n",
       "      <td>Bangladesh</td>\n",
       "      <td>10</td>\n",
       "      <td>0</td>\n",
       "      <td>10 days</td>\n",
       "    </tr>\n",
       "    <tr>\n",
       "      <th>899</th>\n",
       "      <td>2020-03-20</td>\n",
       "      <td>0</td>\n",
       "      <td>0</td>\n",
       "      <td>Bangladesh</td>\n",
       "      <td>10</td>\n",
       "      <td>0</td>\n",
       "      <td>11 days</td>\n",
       "    </tr>\n",
       "    <tr>\n",
       "      <th>898</th>\n",
       "      <td>2020-03-21</td>\n",
       "      <td>7</td>\n",
       "      <td>0</td>\n",
       "      <td>Bangladesh</td>\n",
       "      <td>17</td>\n",
       "      <td>0</td>\n",
       "      <td>12 days</td>\n",
       "    </tr>\n",
       "    <tr>\n",
       "      <th>897</th>\n",
       "      <td>2020-03-22</td>\n",
       "      <td>7</td>\n",
       "      <td>2</td>\n",
       "      <td>Bangladesh</td>\n",
       "      <td>24</td>\n",
       "      <td>2</td>\n",
       "      <td>13 days</td>\n",
       "    </tr>\n",
       "    <tr>\n",
       "      <th>896</th>\n",
       "      <td>2020-03-23</td>\n",
       "      <td>3</td>\n",
       "      <td>1</td>\n",
       "      <td>Bangladesh</td>\n",
       "      <td>27</td>\n",
       "      <td>3</td>\n",
       "      <td>14 days</td>\n",
       "    </tr>\n",
       "    <tr>\n",
       "      <th>895</th>\n",
       "      <td>2020-03-24</td>\n",
       "      <td>6</td>\n",
       "      <td>0</td>\n",
       "      <td>Bangladesh</td>\n",
       "      <td>33</td>\n",
       "      <td>3</td>\n",
       "      <td>15 days</td>\n",
       "    </tr>\n",
       "    <tr>\n",
       "      <th>894</th>\n",
       "      <td>2020-03-25</td>\n",
       "      <td>6</td>\n",
       "      <td>1</td>\n",
       "      <td>Bangladesh</td>\n",
       "      <td>39</td>\n",
       "      <td>4</td>\n",
       "      <td>16 days</td>\n",
       "    </tr>\n",
       "    <tr>\n",
       "      <th>893</th>\n",
       "      <td>2020-03-26</td>\n",
       "      <td>0</td>\n",
       "      <td>1</td>\n",
       "      <td>Bangladesh</td>\n",
       "      <td>39</td>\n",
       "      <td>5</td>\n",
       "      <td>17 days</td>\n",
       "    </tr>\n",
       "    <tr>\n",
       "      <th>892</th>\n",
       "      <td>2020-03-27</td>\n",
       "      <td>9</td>\n",
       "      <td>0</td>\n",
       "      <td>Bangladesh</td>\n",
       "      <td>48</td>\n",
       "      <td>5</td>\n",
       "      <td>18 days</td>\n",
       "    </tr>\n",
       "    <tr>\n",
       "      <th>891</th>\n",
       "      <td>2020-03-28</td>\n",
       "      <td>0</td>\n",
       "      <td>0</td>\n",
       "      <td>Bangladesh</td>\n",
       "      <td>48</td>\n",
       "      <td>5</td>\n",
       "      <td>19 days</td>\n",
       "    </tr>\n",
       "    <tr>\n",
       "      <th>890</th>\n",
       "      <td>2020-03-29</td>\n",
       "      <td>0</td>\n",
       "      <td>0</td>\n",
       "      <td>Bangladesh</td>\n",
       "      <td>48</td>\n",
       "      <td>5</td>\n",
       "      <td>20 days</td>\n",
       "    </tr>\n",
       "    <tr>\n",
       "      <th>889</th>\n",
       "      <td>2020-03-30</td>\n",
       "      <td>1</td>\n",
       "      <td>0</td>\n",
       "      <td>Bangladesh</td>\n",
       "      <td>49</td>\n",
       "      <td>5</td>\n",
       "      <td>21 days</td>\n",
       "    </tr>\n",
       "    <tr>\n",
       "      <th>888</th>\n",
       "      <td>2020-03-31</td>\n",
       "      <td>2</td>\n",
       "      <td>0</td>\n",
       "      <td>Bangladesh</td>\n",
       "      <td>51</td>\n",
       "      <td>5</td>\n",
       "      <td>22 days</td>\n",
       "    </tr>\n",
       "    <tr>\n",
       "      <th>887</th>\n",
       "      <td>2020-04-01</td>\n",
       "      <td>3</td>\n",
       "      <td>0</td>\n",
       "      <td>Bangladesh</td>\n",
       "      <td>54</td>\n",
       "      <td>5</td>\n",
       "      <td>23 days</td>\n",
       "    </tr>\n",
       "    <tr>\n",
       "      <th>886</th>\n",
       "      <td>2020-04-02</td>\n",
       "      <td>2</td>\n",
       "      <td>1</td>\n",
       "      <td>Bangladesh</td>\n",
       "      <td>56</td>\n",
       "      <td>6</td>\n",
       "      <td>24 days</td>\n",
       "    </tr>\n",
       "    <tr>\n",
       "      <th>885</th>\n",
       "      <td>2020-04-03</td>\n",
       "      <td>5</td>\n",
       "      <td>0</td>\n",
       "      <td>Bangladesh</td>\n",
       "      <td>61</td>\n",
       "      <td>6</td>\n",
       "      <td>25 days</td>\n",
       "    </tr>\n",
       "    <tr>\n",
       "      <th>884</th>\n",
       "      <td>2020-04-04</td>\n",
       "      <td>9</td>\n",
       "      <td>0</td>\n",
       "      <td>Bangladesh</td>\n",
       "      <td>70</td>\n",
       "      <td>6</td>\n",
       "      <td>26 days</td>\n",
       "    </tr>\n",
       "    <tr>\n",
       "      <th>883</th>\n",
       "      <td>2020-04-05</td>\n",
       "      <td>18</td>\n",
       "      <td>2</td>\n",
       "      <td>Bangladesh</td>\n",
       "      <td>88</td>\n",
       "      <td>8</td>\n",
       "      <td>27 days</td>\n",
       "    </tr>\n",
       "    <tr>\n",
       "      <th>882</th>\n",
       "      <td>2020-04-06</td>\n",
       "      <td>35</td>\n",
       "      <td>1</td>\n",
       "      <td>Bangladesh</td>\n",
       "      <td>123</td>\n",
       "      <td>9</td>\n",
       "      <td>28 days</td>\n",
       "    </tr>\n",
       "    <tr>\n",
       "      <th>881</th>\n",
       "      <td>2020-04-07</td>\n",
       "      <td>41</td>\n",
       "      <td>3</td>\n",
       "      <td>Bangladesh</td>\n",
       "      <td>164</td>\n",
       "      <td>12</td>\n",
       "      <td>29 days</td>\n",
       "    </tr>\n",
       "    <tr>\n",
       "      <th>880</th>\n",
       "      <td>2020-04-08</td>\n",
       "      <td>54</td>\n",
       "      <td>5</td>\n",
       "      <td>Bangladesh</td>\n",
       "      <td>218</td>\n",
       "      <td>17</td>\n",
       "      <td>30 days</td>\n",
       "    </tr>\n",
       "    <tr>\n",
       "      <th>879</th>\n",
       "      <td>2020-04-09</td>\n",
       "      <td>112</td>\n",
       "      <td>3</td>\n",
       "      <td>Bangladesh</td>\n",
       "      <td>330</td>\n",
       "      <td>20</td>\n",
       "      <td>31 days</td>\n",
       "    </tr>\n",
       "    <tr>\n",
       "      <th>878</th>\n",
       "      <td>2020-04-10</td>\n",
       "      <td>94</td>\n",
       "      <td>1</td>\n",
       "      <td>Bangladesh</td>\n",
       "      <td>424</td>\n",
       "      <td>21</td>\n",
       "      <td>32 days</td>\n",
       "    </tr>\n",
       "  </tbody>\n",
       "</table>\n",
       "</div>"
      ],
      "text/plain": [
       "          Date  Confirmed  Deaths     Country  Total_Confirmed  Total_Deaths  \\\n",
       "904 2020-03-09          3       0  Bangladesh                3             0   \n",
       "903 2020-03-15          0       0  Bangladesh                3             0   \n",
       "902 2020-03-17          2       0  Bangladesh                5             0   \n",
       "901 2020-03-18          3       0  Bangladesh                8             0   \n",
       "900 2020-03-19          2       0  Bangladesh               10             0   \n",
       "899 2020-03-20          0       0  Bangladesh               10             0   \n",
       "898 2020-03-21          7       0  Bangladesh               17             0   \n",
       "897 2020-03-22          7       2  Bangladesh               24             2   \n",
       "896 2020-03-23          3       1  Bangladesh               27             3   \n",
       "895 2020-03-24          6       0  Bangladesh               33             3   \n",
       "894 2020-03-25          6       1  Bangladesh               39             4   \n",
       "893 2020-03-26          0       1  Bangladesh               39             5   \n",
       "892 2020-03-27          9       0  Bangladesh               48             5   \n",
       "891 2020-03-28          0       0  Bangladesh               48             5   \n",
       "890 2020-03-29          0       0  Bangladesh               48             5   \n",
       "889 2020-03-30          1       0  Bangladesh               49             5   \n",
       "888 2020-03-31          2       0  Bangladesh               51             5   \n",
       "887 2020-04-01          3       0  Bangladesh               54             5   \n",
       "886 2020-04-02          2       1  Bangladesh               56             6   \n",
       "885 2020-04-03          5       0  Bangladesh               61             6   \n",
       "884 2020-04-04          9       0  Bangladesh               70             6   \n",
       "883 2020-04-05         18       2  Bangladesh               88             8   \n",
       "882 2020-04-06         35       1  Bangladesh              123             9   \n",
       "881 2020-04-07         41       3  Bangladesh              164            12   \n",
       "880 2020-04-08         54       5  Bangladesh              218            17   \n",
       "879 2020-04-09        112       3  Bangladesh              330            20   \n",
       "878 2020-04-10         94       1  Bangladesh              424            21   \n",
       "\n",
       "       Days  \n",
       "904  0 days  \n",
       "903  6 days  \n",
       "902  8 days  \n",
       "901  9 days  \n",
       "900 10 days  \n",
       "899 11 days  \n",
       "898 12 days  \n",
       "897 13 days  \n",
       "896 14 days  \n",
       "895 15 days  \n",
       "894 16 days  \n",
       "893 17 days  \n",
       "892 18 days  \n",
       "891 19 days  \n",
       "890 20 days  \n",
       "889 21 days  \n",
       "888 22 days  \n",
       "887 23 days  \n",
       "886 24 days  \n",
       "885 25 days  \n",
       "884 26 days  \n",
       "883 27 days  \n",
       "882 28 days  \n",
       "881 29 days  \n",
       "880 30 days  \n",
       "879 31 days  \n",
       "878 32 days  "
      ]
     },
     "execution_count": 11,
     "metadata": {},
     "output_type": "execute_result"
    }
   ],
   "source": [
    "df_Bangladesh"
   ]
  },
  {
   "cell_type": "code",
   "execution_count": 12,
   "metadata": {},
   "outputs": [],
   "source": [
    "a=df_world[\"Country\"].unique()"
   ]
  },
  {
   "cell_type": "code",
   "execution_count": 13,
   "metadata": {},
   "outputs": [],
   "source": [
    "df_world[\"Days\"]=df_world[\"Days\"].astype(str)\n",
    "df_Bangladesh[\"Days\"]=df_Bangladesh[\"Days\"].astype(str)\n",
    "df_world[\"Days\"] = df_world[\"Days\"].str.split(' ').str[0]\n",
    "df_Bangladesh[\"Days\"] = df_Bangladesh[\"Days\"].str.split(' ').str[0]\n",
    "df_world[\"Days\"]=df_world[\"Days\"].astype(int)\n",
    "df_Bangladesh[\"Days\"]=df_Bangladesh[\"Days\"].astype(int)\n",
    "df_world[\"Days\"]=df_world[\"Days\"]+1\n",
    "df_Bangladesh[\"Days\"]=df_Bangladesh[\"Days\"]+1"
   ]
  },
  {
   "cell_type": "code",
   "execution_count": 14,
   "metadata": {},
   "outputs": [],
   "source": [
    "df_USA=df_world[df_world[\"Country\"]==\"United_States_of_America\"]\n",
    "df_USA=df_USA[[\"Days\",\"Total_Confirmed\"]]\n",
    "df_UK=df_world[df_world[\"Country\"]==\"United_Kingdom\"]\n",
    "df_UK=df_UK[[\"Days\",\"Total_Confirmed\"]]\n",
    "df_Italy=df_world[df_world[\"Country\"]==\"Italy\"]\n",
    "df_Italy=df_Italy[[\"Days\",\"Total_Confirmed\"]]\n",
    "df_Spain=df_world[df_world[\"Country\"]==\"Spain\"]\n",
    "df_Spain=df_Spain[[\"Days\",\"Total_Confirmed\"]]\n",
    "df_France=df_world[df_world[\"Country\"]==\"France\"]\n",
    "df_France=df_France[[\"Days\",\"Total_Confirmed\"]]\n",
    "\n",
    "df_India=df_world[df_world[\"Country\"]==\"India\"]\n",
    "df_India=df_India[[\"Days\",\"Total_Confirmed\"]]\n",
    "df_Pakistan=df_world[df_world[\"Country\"]==\"Pakistan\"]\n",
    "df_Pakistan=df_Pakistan[[\"Days\",\"Total_Confirmed\"]]\n",
    "df_Bangladesh=df_Bangladesh[[\"Days\",\"Total_Confirmed\"]]"
   ]
  },
  {
   "cell_type": "code",
   "execution_count": 15,
   "metadata": {},
   "outputs": [],
   "source": [
    "df_USA = df_USA.sample(frac=1,random_state=42).reset_index(drop=True)\n",
    "df_UK = df_UK.sample(frac=1,random_state=42).reset_index(drop=True)\n",
    "df_Italy = df_Italy.sample(frac=1,random_state=42).reset_index(drop=True)\n",
    "df_France = df_France.sample(frac=1,random_state=42).reset_index(drop=True)\n",
    "df_Spain = df_Spain.sample(frac=1,random_state=42).reset_index(drop=True)\n",
    "df_India = df_India.sample(frac=1,random_state=42).reset_index(drop=True)\n",
    "df_Pakistan = df_Pakistan.sample(frac=1,random_state=42).reset_index(drop=True)\n",
    "df_Bangladesh = df_Bangladesh.sample(frac=1,random_state=42).reset_index(drop=True)\n",
    "\n"
   ]
  },
  {
   "cell_type": "code",
   "execution_count": 16,
   "metadata": {},
   "outputs": [],
   "source": [
    "df_USA[\"EXTRA\"]=1\n",
    "df_UK[\"EXTRA\"]=1\n",
    "df_Italy[\"EXTRA\"]=1\n",
    "df_France[\"EXTRA\"]=1\n",
    "df_Spain[\"EXTRA\"]=1\n",
    "df_India[\"EXTRA\"]=1\n",
    "df_Bangladesh[\"EXTRA\"]=1\n",
    "df_Pakistan[\"EXTRA\"]=1"
   ]
  },
  {
   "cell_type": "code",
   "execution_count": 17,
   "metadata": {},
   "outputs": [],
   "source": [
    "df_USA_X=df_USA[[\"Days\",\"EXTRA\"]]\n",
    "df_USA_Y=df_USA[\"Total_Confirmed\"]\n",
    "\n",
    "df_UK_X=df_UK[[\"Days\",\"EXTRA\"]]\n",
    "df_UK_Y=df_UK[\"Total_Confirmed\"]\n",
    "\n",
    "df_Italy_X=df_Italy[[\"Days\",\"EXTRA\"]]\n",
    "df_Italy=df_Italy[\"Total_Confirmed\"]\n",
    "\n",
    "df_France_X=df_France[[\"Days\",\"EXTRA\"]]\n",
    "df_France_Y=df_France[\"Total_Confirmed\"]\n",
    "\n",
    "df_Spain_X=df_Spain[[\"Days\",\"EXTRA\"]]\n",
    "df_Spain_Y=df_Spain[\"Total_Confirmed\"]\n",
    "\n",
    "df_India_X=df_India[[\"Days\",\"EXTRA\"]]\n",
    "df_India_Y=df_India[\"Total_Confirmed\"]\n",
    "\n",
    "df_Pakistan_X=df_Pakistan[[\"Days\",\"EXTRA\"]]\n",
    "df_Pakistan_Y=df_Pakistan[\"Total_Confirmed\"]\n",
    "\n",
    "df_Bangladesh_X=df_Bangladesh[[\"Days\",\"EXTRA\"]]\n",
    "df_Bangladesh_Y=df_Bangladesh[\"Total_Confirmed\"]"
   ]
  },
  {
   "cell_type": "code",
   "execution_count": 18,
   "metadata": {},
   "outputs": [
    {
     "data": {
      "text/html": [
       "<div>\n",
       "<style scoped>\n",
       "    .dataframe tbody tr th:only-of-type {\n",
       "        vertical-align: middle;\n",
       "    }\n",
       "\n",
       "    .dataframe tbody tr th {\n",
       "        vertical-align: top;\n",
       "    }\n",
       "\n",
       "    .dataframe thead th {\n",
       "        text-align: right;\n",
       "    }\n",
       "</style>\n",
       "<table border=\"1\" class=\"dataframe\">\n",
       "  <thead>\n",
       "    <tr style=\"text-align: right;\">\n",
       "      <th></th>\n",
       "      <th>days</th>\n",
       "      <th>EXTRA</th>\n",
       "    </tr>\n",
       "  </thead>\n",
       "  <tbody>\n",
       "    <tr>\n",
       "      <th>0</th>\n",
       "      <td>34</td>\n",
       "      <td>1</td>\n",
       "    </tr>\n",
       "    <tr>\n",
       "      <th>1</th>\n",
       "      <td>35</td>\n",
       "      <td>1</td>\n",
       "    </tr>\n",
       "    <tr>\n",
       "      <th>2</th>\n",
       "      <td>36</td>\n",
       "      <td>1</td>\n",
       "    </tr>\n",
       "    <tr>\n",
       "      <th>3</th>\n",
       "      <td>37</td>\n",
       "      <td>1</td>\n",
       "    </tr>\n",
       "    <tr>\n",
       "      <th>4</th>\n",
       "      <td>38</td>\n",
       "      <td>1</td>\n",
       "    </tr>\n",
       "  </tbody>\n",
       "</table>\n",
       "</div>"
      ],
      "text/plain": [
       "   days  EXTRA\n",
       "0    34      1\n",
       "1    35      1\n",
       "2    36      1\n",
       "3    37      1\n",
       "4    38      1"
      ]
     },
     "execution_count": 18,
     "metadata": {},
     "output_type": "execute_result"
    }
   ],
   "source": [
    "data = {'days':[34,35,36,37,38,39,40,41,42,43,44,45,46,47,48,49,50,51,52,53,54,55,56,57,58,59,60,61]} \n",
    "df_Bangladesh_Test=pd.DataFrame(data)\n",
    "df_Bangladesh_Test[\"EXTRA\"]=1\n",
    "df_Bangladesh_Test.head()"
   ]
  },
  {
   "cell_type": "code",
   "execution_count": 19,
   "metadata": {},
   "outputs": [],
   "source": [
    "##from sklearn.kernel_approximation import RBFSampler\n",
    "#rbf_feature = RBFSampler(gamma=1, random_state=1)\n",
    "#X_features_USA = rbf_feature.fit_transform(df_USA_X)\n",
    "#X_features_Bangladesh = rbf_feature.fit_transform(df_Bangladesh_X)\n",
    "#df_Bangladesh_Test= rbf_feature.fit_transform(df_Bangladesh_Test)"
   ]
  },
  {
   "cell_type": "code",
   "execution_count": 24,
   "metadata": {},
   "outputs": [],
   "source": [
    "def predict_Linear(X,y,df_USA_X,df_USA_Y,df_Bangladesh_Test,poly=None):\n",
    "    x_train, x_test, y_train, y_test = train_test_split(X, y ,test_size =0.2,random_state=42, shuffle=False)\n",
    "    model=LinearRegression()\n",
    "    if (poly==True):\n",
    "        poly = PolynomialFeatures(degree=6)\n",
    "        x_train = poly.fit_transform(x_train)\n",
    "        X = poly.fit_transform(X)\n",
    "        x_test = poly.fit_transform(x_test)\n",
    "        df_USA_X = poly.fit_transform(df_USA_X)\n",
    "        df_Bangladesh_Test = poly.fit_transform(df_Bangladesh_Test)\n",
    "        \n",
    "    model.fit(x_train,y_train)\n",
    "    predict_linear=model.predict(x_test)\n",
    "    mse_linear = sklearn.metrics.mean_squared_error(y_test, predict_linear)\n",
    "    rmse_linear = math.sqrt(mse_linear)\n",
    "    from sklearn.metrics import r2_score,mean_absolute_error\n",
    "    print(\"r2_score_linear\",r2_score(y_test, predict_linear))\n",
    "    print(\"mean_absolute_error_linear\",mean_absolute_error(y_test, predict_linear))\n",
    "    model.fit(X,y)\n",
    "    predict_future_linear=model.predict(df_Bangladesh_Test)    \n",
    "    \n",
    "    return mse_linear,rmse_linear,predict_linear,y_test,predict_future_linear"
   ]
  },
  {
   "cell_type": "code",
   "execution_count": 25,
   "metadata": {},
   "outputs": [
    {
     "name": "stdout",
     "output_type": "stream",
     "text": [
      "r2_score_linear 0.9941459090266078\n",
      "mean_absolute_error_linear 1.1578785170108048\n"
     ]
    }
   ],
   "source": [
    "mse_linear,rmse_linear,predict_linear,y_test,predict_future_linear= predict_Linear(df_Bangladesh_X,df_Bangladesh_Y,df_USA_X,df_USA_Y,df_Bangladesh_Test,poly=True)\n"
   ]
  },
  {
   "cell_type": "code",
   "execution_count": 26,
   "metadata": {},
   "outputs": [
    {
     "data": {
      "text/plain": [
       "1.4418791085749807"
      ]
     },
     "execution_count": 26,
     "metadata": {},
     "output_type": "execute_result"
    }
   ],
   "source": [
    "rmse_linear"
   ]
  },
  {
   "cell_type": "code",
   "execution_count": 27,
   "metadata": {},
   "outputs": [
    {
     "data": {
      "text/plain": [
       "2.079015363744981"
      ]
     },
     "execution_count": 27,
     "metadata": {},
     "output_type": "execute_result"
    }
   ],
   "source": [
    "mse_linear"
   ]
  },
  {
   "cell_type": "code",
   "execution_count": 28,
   "metadata": {},
   "outputs": [
    {
     "data": {
      "text/plain": [
       "array([72, 22, 37, 49, 60, 16])"
      ]
     },
     "execution_count": 28,
     "metadata": {},
     "output_type": "execute_result"
    }
   ],
   "source": [
    "predict_linear=predict_linear.astype(int)\n",
    "predict_linear"
   ]
  },
  {
   "cell_type": "code",
   "execution_count": 29,
   "metadata": {},
   "outputs": [
    {
     "data": {
      "text/plain": [
       "21    70\n",
       "22    24\n",
       "23    39\n",
       "24    48\n",
       "25    61\n",
       "26    17\n",
       "Name: Total_Confirmed, dtype: int64"
      ]
     },
     "execution_count": 29,
     "metadata": {},
     "output_type": "execute_result"
    }
   ],
   "source": [
    "y_test"
   ]
  },
  {
   "cell_type": "code",
   "execution_count": 30,
   "metadata": {},
   "outputs": [
    {
     "data": {
      "text/plain": [
       "array([  582,   779,  1029,  1342,  1728,  2201,  2774,  3463,  4283,\n",
       "        5255,  6397,  7731,  9283, 11077, 13142, 15508, 18208, 21277,\n",
       "       24753, 28677, 33092, 38044, 43583, 49761, 56635, 64264, 72710,\n",
       "       82042])"
      ]
     },
     "execution_count": 30,
     "metadata": {},
     "output_type": "execute_result"
    }
   ],
   "source": [
    "predict_future_linear=predict_future_linear.astype(int)\n",
    "predict_future_linear"
   ]
  },
  {
   "cell_type": "code",
   "execution_count": 31,
   "metadata": {},
   "outputs": [],
   "source": [
    "def predict_Lasso(X,y,df_USA_X,df_USA_Y,df_Bangladesh_Test,poly=None):\n",
    "    x_train, x_test, y_train, y_test = train_test_split(X, y ,test_size =0.2,random_state=42, shuffle=False)\n",
    "    model=Lasso(alpha=0.001,random_state=42)\n",
    "    if (poly==True):\n",
    "        poly = PolynomialFeatures(degree=8)\n",
    "        x_train = poly.fit_transform(x_train)\n",
    "        X = poly.fit_transform(X)\n",
    "        x_test = poly.fit_transform(x_test)\n",
    "        df_USA_X = poly.fit_transform(df_USA_X)\n",
    "        df_Bangladesh_Test = poly.fit_transform(df_Bangladesh_Test)\n",
    "        \n",
    "    rmse_Lasso_cv = np.sqrt(-cross_val_score(Lasso(alpha=0.58), x_train, y_train, scoring=\"neg_mean_squared_error\", cv = 5))\n",
    "    model.fit(x_train,y_train)\n",
    "    predict_Lasso=model.predict(x_test)\n",
    "    mse_Lasso = sklearn.metrics.mean_squared_error(y_test, predict_Lasso)\n",
    "    rmse_Lasso = math.sqrt(mse_Lasso)\n",
    "    from sklearn.metrics import r2_score,mean_absolute_error\n",
    "    print(\"r2_score_Lasso\",r2_score(y_test,predict_Lasso))\n",
    "    print(\"mean_absolute_error_Lasso\",mean_absolute_error(y_test, predict_Lasso))\n",
    "    model.fit(X,y)\n",
    "    predict_future_Lasso=model.predict(df_Bangladesh_Test)    \n",
    "    \n",
    "    #r2_score=model.score(y_test, predict)\n",
    "    return mse_Lasso,rmse_Lasso,predict_Lasso,y_test,predict_future_Lasso,rmse_Lasso_cv"
   ]
  },
  {
   "cell_type": "code",
   "execution_count": 32,
   "metadata": {},
   "outputs": [
    {
     "name": "stdout",
     "output_type": "stream",
     "text": [
      "r2_score_Lasso 0.9846224006179275\n",
      "mean_absolute_error_Lasso 1.8247129672748983\n"
     ]
    }
   ],
   "source": [
    "mse_Lasso,rmse_Lasso,predict_Lasso,y_test,predict_future_Lasso,rmse_Lasso_cv= predict_Lasso(df_Bangladesh_X,df_Bangladesh_Y,df_USA_X,df_USA_Y,df_Bangladesh_Test,poly=True)\n"
   ]
  },
  {
   "cell_type": "code",
   "execution_count": 33,
   "metadata": {},
   "outputs": [
    {
     "data": {
      "text/plain": [
       "array([11.41424146,  4.57839922,  8.12263706,  1.55648191, 23.68955505])"
      ]
     },
     "execution_count": 33,
     "metadata": {},
     "output_type": "execute_result"
    }
   ],
   "source": [
    "rmse_Lasso_cv"
   ]
  },
  {
   "cell_type": "code",
   "execution_count": 34,
   "metadata": {},
   "outputs": [
    {
     "data": {
      "text/plain": [
       "9.872262942035924"
      ]
     },
     "execution_count": 34,
     "metadata": {},
     "output_type": "execute_result"
    }
   ],
   "source": [
    "rmse_Lasso_cv.mean()"
   ]
  },
  {
   "cell_type": "code",
   "execution_count": 35,
   "metadata": {},
   "outputs": [
    {
     "data": {
      "text/plain": [
       "2.3369175334888674"
      ]
     },
     "execution_count": 35,
     "metadata": {},
     "output_type": "execute_result"
    }
   ],
   "source": [
    "rmse_Lasso"
   ]
  },
  {
   "cell_type": "code",
   "execution_count": 36,
   "metadata": {},
   "outputs": [
    {
     "data": {
      "text/plain": [
       "5.461183558327691"
      ]
     },
     "execution_count": 36,
     "metadata": {},
     "output_type": "execute_result"
    }
   ],
   "source": [
    "mse_Lasso"
   ]
  },
  {
   "cell_type": "code",
   "execution_count": 37,
   "metadata": {},
   "outputs": [
    {
     "data": {
      "text/plain": [
       "array([73, 25, 38, 47, 61, 20])"
      ]
     },
     "execution_count": 37,
     "metadata": {},
     "output_type": "execute_result"
    }
   ],
   "source": [
    "predict_Lasso=predict_Lasso.astype(int)\n",
    "predict_Lasso"
   ]
  },
  {
   "cell_type": "code",
   "execution_count": 38,
   "metadata": {},
   "outputs": [
    {
     "data": {
      "text/plain": [
       "21    70\n",
       "22    24\n",
       "23    39\n",
       "24    48\n",
       "25    61\n",
       "26    17\n",
       "Name: Total_Confirmed, dtype: int64"
      ]
     },
     "execution_count": 38,
     "metadata": {},
     "output_type": "execute_result"
    }
   ],
   "source": [
    "y_test"
   ]
  },
  {
   "cell_type": "code",
   "execution_count": 39,
   "metadata": {},
   "outputs": [
    {
     "data": {
      "text/plain": [
       "array([   583,    784,   1042,   1372,   1786,   2301,   2938,   3718,\n",
       "         4666,   5810,   7185,   8825,  10771,  13071,  15776,  18943,\n",
       "        22635,  26925,  31889,  37617,  44202,  51750,  60377,  70210,\n",
       "        81388,  94061, 108396, 124572])"
      ]
     },
     "execution_count": 39,
     "metadata": {},
     "output_type": "execute_result"
    }
   ],
   "source": [
    "predict_future_Lasso=predict_future_Lasso.astype(int)\n",
    "predict_future_Lasso"
   ]
  },
  {
   "cell_type": "code",
   "execution_count": null,
   "metadata": {},
   "outputs": [],
   "source": []
  }
 ],
 "metadata": {
  "kernelspec": {
   "display_name": "Python 3",
   "language": "python",
   "name": "python3"
  },
  "language_info": {
   "codemirror_mode": {
    "name": "ipython",
    "version": 3
   },
   "file_extension": ".py",
   "mimetype": "text/x-python",
   "name": "python",
   "nbconvert_exporter": "python",
   "pygments_lexer": "ipython3",
   "version": "3.7.3"
  }
 },
 "nbformat": 4,
 "nbformat_minor": 2
}
