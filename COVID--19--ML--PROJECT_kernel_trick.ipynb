{
 "cells": [
  {
   "cell_type": "code",
   "execution_count": 477,
   "metadata": {},
   "outputs": [],
   "source": [
    "import numpy as np\n",
    "import pandas as pd\n",
    "import seaborn as sns\n",
    "from sklearn.model_selection import train_test_split\n",
    "from sklearn.linear_model import LinearRegression,ElasticNet\n",
    "from sklearn.svm import SVR\n",
    "from sklearn.preprocessing import PolynomialFeatures\n",
    "from sklearn.metrics import r2_score,mean_absolute_error\n",
    "import sklearn\n",
    "import math\n",
    "import numpy as np, pandas as pd\n",
    "from statsmodels.graphics.tsaplots import plot_acf, plot_pacf\n",
    "import matplotlib.pyplot as plt\n",
    "from sklearn.linear_model import Ridge, RidgeCV, ElasticNet, LassoCV, LassoLarsCV,Lasso\n",
    "from sklearn.model_selection import cross_val_score\n",
    "import warnings\n",
    "warnings.filterwarnings(\"ignore\")"
   ]
  },
  {
   "cell_type": "code",
   "execution_count": 478,
   "metadata": {},
   "outputs": [
    {
     "data": {
      "text/html": [
       "<div>\n",
       "<style scoped>\n",
       "    .dataframe tbody tr th:only-of-type {\n",
       "        vertical-align: middle;\n",
       "    }\n",
       "\n",
       "    .dataframe tbody tr th {\n",
       "        vertical-align: top;\n",
       "    }\n",
       "\n",
       "    .dataframe thead th {\n",
       "        text-align: right;\n",
       "    }\n",
       "</style>\n",
       "<table border=\"1\" class=\"dataframe\">\n",
       "  <thead>\n",
       "    <tr style=\"text-align: right;\">\n",
       "      <th></th>\n",
       "      <th>Date</th>\n",
       "      <th>Confirmed</th>\n",
       "      <th>Deaths</th>\n",
       "      <th>Country</th>\n",
       "    </tr>\n",
       "  </thead>\n",
       "  <tbody>\n",
       "    <tr>\n",
       "      <th>0</th>\n",
       "      <td>2020-04-10</td>\n",
       "      <td>61</td>\n",
       "      <td>1</td>\n",
       "      <td>Afghanistan</td>\n",
       "    </tr>\n",
       "    <tr>\n",
       "      <th>1</th>\n",
       "      <td>2020-04-09</td>\n",
       "      <td>56</td>\n",
       "      <td>3</td>\n",
       "      <td>Afghanistan</td>\n",
       "    </tr>\n",
       "    <tr>\n",
       "      <th>2</th>\n",
       "      <td>2020-04-08</td>\n",
       "      <td>30</td>\n",
       "      <td>4</td>\n",
       "      <td>Afghanistan</td>\n",
       "    </tr>\n",
       "    <tr>\n",
       "      <th>3</th>\n",
       "      <td>2020-04-07</td>\n",
       "      <td>38</td>\n",
       "      <td>0</td>\n",
       "      <td>Afghanistan</td>\n",
       "    </tr>\n",
       "    <tr>\n",
       "      <th>4</th>\n",
       "      <td>2020-04-06</td>\n",
       "      <td>29</td>\n",
       "      <td>2</td>\n",
       "      <td>Afghanistan</td>\n",
       "    </tr>\n",
       "  </tbody>\n",
       "</table>\n",
       "</div>"
      ],
      "text/plain": [
       "        Date  Confirmed  Deaths      Country\n",
       "0 2020-04-10         61       1  Afghanistan\n",
       "1 2020-04-09         56       3  Afghanistan\n",
       "2 2020-04-08         30       4  Afghanistan\n",
       "3 2020-04-07         38       0  Afghanistan\n",
       "4 2020-04-06         29       2  Afghanistan"
      ]
     },
     "execution_count": 478,
     "metadata": {},
     "output_type": "execute_result"
    }
   ],
   "source": [
    "frame=pd.read_excel(\"COVID-19.xlsx\")\n",
    "frame.drop([\"geoId\",\"day\",\"month\",\"year\",\"countryterritoryCode\"],axis=1,inplace=True)\n",
    "frame.columns=[[\"Date\",\"Confirmed\",\"Deaths\",\"Country\",\"Population\"]]\n",
    "frame.drop(\"Population\",axis=1,inplace=True)\n",
    "frame.columns = frame.columns.get_level_values(0)\n",
    "frame[\"Date\"]=pd.to_datetime(frame[\"Date\"],format=\"%d/%m/%Y\")\n",
    "frame.head()\n"
   ]
  },
  {
   "cell_type": "code",
   "execution_count": 479,
   "metadata": {},
   "outputs": [
    {
     "data": {
      "text/plain": [
       "Date         datetime64[ns]\n",
       "Confirmed             int64\n",
       "Deaths                int64\n",
       "Country              object\n",
       "dtype: object"
      ]
     },
     "execution_count": 479,
     "metadata": {},
     "output_type": "execute_result"
    }
   ],
   "source": [
    "frame.dtypes\n"
   ]
  },
  {
   "cell_type": "code",
   "execution_count": 480,
   "metadata": {},
   "outputs": [
    {
     "name": "stdout",
     "output_type": "stream",
     "text": [
      "<class 'pandas.core.frame.DataFrame'>\n",
      "RangeIndex: 9922 entries, 0 to 9921\n",
      "Data columns (total 4 columns):\n",
      "Date         9922 non-null datetime64[ns]\n",
      "Confirmed    9922 non-null int64\n",
      "Deaths       9922 non-null int64\n",
      "Country      9922 non-null object\n",
      "dtypes: datetime64[ns](1), int64(2), object(1)\n",
      "memory usage: 310.1+ KB\n"
     ]
    }
   ],
   "source": [
    "frame.info()"
   ]
  },
  {
   "cell_type": "code",
   "execution_count": 481,
   "metadata": {},
   "outputs": [
    {
     "data": {
      "text/html": [
       "<div>\n",
       "<style scoped>\n",
       "    .dataframe tbody tr th:only-of-type {\n",
       "        vertical-align: middle;\n",
       "    }\n",
       "\n",
       "    .dataframe tbody tr th {\n",
       "        vertical-align: top;\n",
       "    }\n",
       "\n",
       "    .dataframe thead th {\n",
       "        text-align: right;\n",
       "    }\n",
       "</style>\n",
       "<table border=\"1\" class=\"dataframe\">\n",
       "  <thead>\n",
       "    <tr style=\"text-align: right;\">\n",
       "      <th></th>\n",
       "      <th>Date</th>\n",
       "      <th>Confirmed</th>\n",
       "      <th>Deaths</th>\n",
       "      <th>Country</th>\n",
       "    </tr>\n",
       "  </thead>\n",
       "  <tbody>\n",
       "    <tr>\n",
       "      <th>91</th>\n",
       "      <td>2019-12-31</td>\n",
       "      <td>0</td>\n",
       "      <td>0</td>\n",
       "      <td>Afghanistan</td>\n",
       "    </tr>\n",
       "    <tr>\n",
       "      <th>90</th>\n",
       "      <td>2020-01-01</td>\n",
       "      <td>0</td>\n",
       "      <td>0</td>\n",
       "      <td>Afghanistan</td>\n",
       "    </tr>\n",
       "    <tr>\n",
       "      <th>89</th>\n",
       "      <td>2020-01-02</td>\n",
       "      <td>0</td>\n",
       "      <td>0</td>\n",
       "      <td>Afghanistan</td>\n",
       "    </tr>\n",
       "    <tr>\n",
       "      <th>88</th>\n",
       "      <td>2020-01-03</td>\n",
       "      <td>0</td>\n",
       "      <td>0</td>\n",
       "      <td>Afghanistan</td>\n",
       "    </tr>\n",
       "    <tr>\n",
       "      <th>87</th>\n",
       "      <td>2020-01-04</td>\n",
       "      <td>0</td>\n",
       "      <td>0</td>\n",
       "      <td>Afghanistan</td>\n",
       "    </tr>\n",
       "  </tbody>\n",
       "</table>\n",
       "</div>"
      ],
      "text/plain": [
       "         Date  Confirmed  Deaths      Country\n",
       "91 2019-12-31          0       0  Afghanistan\n",
       "90 2020-01-01          0       0  Afghanistan\n",
       "89 2020-01-02          0       0  Afghanistan\n",
       "88 2020-01-03          0       0  Afghanistan\n",
       "87 2020-01-04          0       0  Afghanistan"
      ]
     },
     "execution_count": 481,
     "metadata": {},
     "output_type": "execute_result"
    }
   ],
   "source": [
    "frame=frame.sort_values(by=[\"Country\",\"Date\"])\n",
    "frame.head()"
   ]
  },
  {
   "cell_type": "code",
   "execution_count": 482,
   "metadata": {},
   "outputs": [],
   "source": [
    "frame[\"Total_Confirmed\"]=frame.groupby(\"Country\")[\"Confirmed\"].cumsum()\n",
    "frame[\"Total_Deaths\"]=frame.groupby(\"Country\")[\"Deaths\"].cumsum()\n",
    "\n"
   ]
  },
  {
   "cell_type": "code",
   "execution_count": 483,
   "metadata": {},
   "outputs": [],
   "source": [
    "df_Bangladesh=frame[frame[\"Country\"]==\"Bangladesh\"]\n",
    "df_world=frame[frame[\"Country\"]!=\"Bangladesh\"]"
   ]
  },
  {
   "cell_type": "code",
   "execution_count": 484,
   "metadata": {},
   "outputs": [
    {
     "data": {
      "text/html": [
       "<div>\n",
       "<style scoped>\n",
       "    .dataframe tbody tr th:only-of-type {\n",
       "        vertical-align: middle;\n",
       "    }\n",
       "\n",
       "    .dataframe tbody tr th {\n",
       "        vertical-align: top;\n",
       "    }\n",
       "\n",
       "    .dataframe thead th {\n",
       "        text-align: right;\n",
       "    }\n",
       "</style>\n",
       "<table border=\"1\" class=\"dataframe\">\n",
       "  <thead>\n",
       "    <tr style=\"text-align: right;\">\n",
       "      <th></th>\n",
       "      <th>Date</th>\n",
       "      <th>Confirmed</th>\n",
       "      <th>Deaths</th>\n",
       "      <th>Country</th>\n",
       "      <th>Total_Confirmed</th>\n",
       "      <th>Total_Deaths</th>\n",
       "    </tr>\n",
       "  </thead>\n",
       "  <tbody>\n",
       "    <tr>\n",
       "      <th>882</th>\n",
       "      <td>2020-04-06</td>\n",
       "      <td>35</td>\n",
       "      <td>1</td>\n",
       "      <td>Bangladesh</td>\n",
       "      <td>123</td>\n",
       "      <td>9</td>\n",
       "    </tr>\n",
       "    <tr>\n",
       "      <th>881</th>\n",
       "      <td>2020-04-07</td>\n",
       "      <td>41</td>\n",
       "      <td>3</td>\n",
       "      <td>Bangladesh</td>\n",
       "      <td>164</td>\n",
       "      <td>12</td>\n",
       "    </tr>\n",
       "    <tr>\n",
       "      <th>880</th>\n",
       "      <td>2020-04-08</td>\n",
       "      <td>54</td>\n",
       "      <td>5</td>\n",
       "      <td>Bangladesh</td>\n",
       "      <td>218</td>\n",
       "      <td>17</td>\n",
       "    </tr>\n",
       "    <tr>\n",
       "      <th>879</th>\n",
       "      <td>2020-04-09</td>\n",
       "      <td>112</td>\n",
       "      <td>3</td>\n",
       "      <td>Bangladesh</td>\n",
       "      <td>330</td>\n",
       "      <td>20</td>\n",
       "    </tr>\n",
       "    <tr>\n",
       "      <th>878</th>\n",
       "      <td>2020-04-10</td>\n",
       "      <td>94</td>\n",
       "      <td>1</td>\n",
       "      <td>Bangladesh</td>\n",
       "      <td>424</td>\n",
       "      <td>21</td>\n",
       "    </tr>\n",
       "  </tbody>\n",
       "</table>\n",
       "</div>"
      ],
      "text/plain": [
       "          Date  Confirmed  Deaths     Country  Total_Confirmed  Total_Deaths\n",
       "882 2020-04-06         35       1  Bangladesh              123             9\n",
       "881 2020-04-07         41       3  Bangladesh              164            12\n",
       "880 2020-04-08         54       5  Bangladesh              218            17\n",
       "879 2020-04-09        112       3  Bangladesh              330            20\n",
       "878 2020-04-10         94       1  Bangladesh              424            21"
      ]
     },
     "execution_count": 484,
     "metadata": {},
     "output_type": "execute_result"
    }
   ],
   "source": [
    "df_Bangladesh.tail()"
   ]
  },
  {
   "cell_type": "code",
   "execution_count": 485,
   "metadata": {},
   "outputs": [],
   "source": [
    "df_world=df_world[df_world[\"Total_Confirmed\"]>0]"
   ]
  },
  {
   "cell_type": "code",
   "execution_count": 486,
   "metadata": {},
   "outputs": [],
   "source": [
    "df_world['Days'] = (df_world['Date'] - df_world.groupby('Country')['Date'].transform('first'))\n",
    "df_Bangladesh['Days'] = (df_Bangladesh['Date'] - df_Bangladesh.groupby('Country')['Date'].transform('first'))"
   ]
  },
  {
   "cell_type": "code",
   "execution_count": 487,
   "metadata": {},
   "outputs": [
    {
     "data": {
      "text/html": [
       "<div>\n",
       "<style scoped>\n",
       "    .dataframe tbody tr th:only-of-type {\n",
       "        vertical-align: middle;\n",
       "    }\n",
       "\n",
       "    .dataframe tbody tr th {\n",
       "        vertical-align: top;\n",
       "    }\n",
       "\n",
       "    .dataframe thead th {\n",
       "        text-align: right;\n",
       "    }\n",
       "</style>\n",
       "<table border=\"1\" class=\"dataframe\">\n",
       "  <thead>\n",
       "    <tr style=\"text-align: right;\">\n",
       "      <th></th>\n",
       "      <th>Date</th>\n",
       "      <th>Confirmed</th>\n",
       "      <th>Deaths</th>\n",
       "      <th>Country</th>\n",
       "      <th>Total_Confirmed</th>\n",
       "      <th>Total_Deaths</th>\n",
       "      <th>Days</th>\n",
       "    </tr>\n",
       "  </thead>\n",
       "  <tbody>\n",
       "    <tr>\n",
       "      <th>904</th>\n",
       "      <td>2020-03-09</td>\n",
       "      <td>3</td>\n",
       "      <td>0</td>\n",
       "      <td>Bangladesh</td>\n",
       "      <td>3</td>\n",
       "      <td>0</td>\n",
       "      <td>0 days</td>\n",
       "    </tr>\n",
       "    <tr>\n",
       "      <th>903</th>\n",
       "      <td>2020-03-15</td>\n",
       "      <td>0</td>\n",
       "      <td>0</td>\n",
       "      <td>Bangladesh</td>\n",
       "      <td>3</td>\n",
       "      <td>0</td>\n",
       "      <td>6 days</td>\n",
       "    </tr>\n",
       "    <tr>\n",
       "      <th>902</th>\n",
       "      <td>2020-03-17</td>\n",
       "      <td>2</td>\n",
       "      <td>0</td>\n",
       "      <td>Bangladesh</td>\n",
       "      <td>5</td>\n",
       "      <td>0</td>\n",
       "      <td>8 days</td>\n",
       "    </tr>\n",
       "    <tr>\n",
       "      <th>901</th>\n",
       "      <td>2020-03-18</td>\n",
       "      <td>3</td>\n",
       "      <td>0</td>\n",
       "      <td>Bangladesh</td>\n",
       "      <td>8</td>\n",
       "      <td>0</td>\n",
       "      <td>9 days</td>\n",
       "    </tr>\n",
       "    <tr>\n",
       "      <th>900</th>\n",
       "      <td>2020-03-19</td>\n",
       "      <td>2</td>\n",
       "      <td>0</td>\n",
       "      <td>Bangladesh</td>\n",
       "      <td>10</td>\n",
       "      <td>0</td>\n",
       "      <td>10 days</td>\n",
       "    </tr>\n",
       "  </tbody>\n",
       "</table>\n",
       "</div>"
      ],
      "text/plain": [
       "          Date  Confirmed  Deaths     Country  Total_Confirmed  Total_Deaths  \\\n",
       "904 2020-03-09          3       0  Bangladesh                3             0   \n",
       "903 2020-03-15          0       0  Bangladesh                3             0   \n",
       "902 2020-03-17          2       0  Bangladesh                5             0   \n",
       "901 2020-03-18          3       0  Bangladesh                8             0   \n",
       "900 2020-03-19          2       0  Bangladesh               10             0   \n",
       "\n",
       "       Days  \n",
       "904  0 days  \n",
       "903  6 days  \n",
       "902  8 days  \n",
       "901  9 days  \n",
       "900 10 days  "
      ]
     },
     "execution_count": 487,
     "metadata": {},
     "output_type": "execute_result"
    }
   ],
   "source": [
    "df_Bangladesh.head()"
   ]
  },
  {
   "cell_type": "code",
   "execution_count": 488,
   "metadata": {},
   "outputs": [],
   "source": [
    "a=df_world[\"Country\"].unique()"
   ]
  },
  {
   "cell_type": "code",
   "execution_count": 489,
   "metadata": {},
   "outputs": [],
   "source": [
    "df_world[\"Days\"]=df_world[\"Days\"].astype(str)\n",
    "df_Bangladesh[\"Days\"]=df_Bangladesh[\"Days\"].astype(str)\n",
    "df_world[\"Days\"] = df_world[\"Days\"].str.split(' ').str[0]\n",
    "df_Bangladesh[\"Days\"] = df_Bangladesh[\"Days\"].str.split(' ').str[0]\n",
    "df_world[\"Days\"]=df_world[\"Days\"].astype(int)\n",
    "df_Bangladesh[\"Days\"]=df_Bangladesh[\"Days\"].astype(int)\n",
    "df_world[\"Days\"]=df_world[\"Days\"]+1\n",
    "df_Bangladesh[\"Days\"]=df_Bangladesh[\"Days\"]+1"
   ]
  },
  {
   "cell_type": "code",
   "execution_count": 490,
   "metadata": {},
   "outputs": [],
   "source": [
    "df_USA=df_world[df_world[\"Country\"]==\"United_States_of_America\"]\n",
    "df_USA=df_USA[[\"Days\",\"Total_Confirmed\"]]\n",
    "df_UK=df_world[df_world[\"Country\"]==\"United_Kingdom\"]\n",
    "df_UK=df_UK[[\"Days\",\"Total_Confirmed\"]]\n",
    "df_Italy=df_world[df_world[\"Country\"]==\"Italy\"]\n",
    "df_Italy=df_Italy[[\"Days\",\"Total_Confirmed\"]]\n",
    "df_Spain=df_world[df_world[\"Country\"]==\"Spain\"]\n",
    "df_Spain=df_Spain[[\"Days\",\"Total_Confirmed\"]]\n",
    "df_France=df_world[df_world[\"Country\"]==\"France\"]\n",
    "df_France=df_France[[\"Days\",\"Total_Confirmed\"]]\n",
    "\n",
    "df_India=df_world[df_world[\"Country\"]==\"India\"]\n",
    "df_India=df_India[[\"Days\",\"Total_Confirmed\"]]\n",
    "df_Pakistan=df_world[df_world[\"Country\"]==\"Pakistan\"]\n",
    "df_Pakistan=df_Pakistan[[\"Days\",\"Total_Confirmed\"]]\n",
    "df_Bangladesh=df_Bangladesh[[\"Days\",\"Total_Confirmed\"]]"
   ]
  },
  {
   "cell_type": "code",
   "execution_count": 491,
   "metadata": {},
   "outputs": [],
   "source": [
    "df_USA = df_USA.sample(frac=1,random_state=42).reset_index(drop=True)\n",
    "df_UK = df_UK.sample(frac=1,random_state=42).reset_index(drop=True)\n",
    "df_Italy = df_Italy.sample(frac=1,random_state=42).reset_index(drop=True)\n",
    "df_France = df_France.sample(frac=1,random_state=42).reset_index(drop=True)\n",
    "df_Spain = df_Spain.sample(frac=1,random_state=42).reset_index(drop=True)\n",
    "df_India = df_India.sample(frac=1,random_state=42).reset_index(drop=True)\n",
    "df_Pakistan = df_Pakistan.sample(frac=1,random_state=42).reset_index(drop=True)\n",
    "df_Bangladesh = df_Bangladesh.sample(frac=1,random_state=42).reset_index(drop=True)\n",
    "\n"
   ]
  },
  {
   "cell_type": "code",
   "execution_count": 492,
   "metadata": {},
   "outputs": [],
   "source": [
    "df_USA[\"POP_Density\"]=328200000\n",
    "df_UK[\"POP_Density\"]=66650000\n",
    "df_Italy[\"POP_Density\"]=260360000\n",
    "df_France[\"POP_Density\"]=66990000 \n",
    "df_Spain[\"POP_Density\"]=46940000\n",
    "df_India[\"POP_Density\"]=1.339e9\n",
    "df_Bangladesh[\"POP_Density\"]=164700000\n",
    "df_Pakistan[\"POP_Density\"]=197000000"
   ]
  },
  {
   "cell_type": "code",
   "execution_count": 493,
   "metadata": {},
   "outputs": [
    {
     "data": {
      "text/html": [
       "<div>\n",
       "<style scoped>\n",
       "    .dataframe tbody tr th:only-of-type {\n",
       "        vertical-align: middle;\n",
       "    }\n",
       "\n",
       "    .dataframe tbody tr th {\n",
       "        vertical-align: top;\n",
       "    }\n",
       "\n",
       "    .dataframe thead th {\n",
       "        text-align: right;\n",
       "    }\n",
       "</style>\n",
       "<table border=\"1\" class=\"dataframe\">\n",
       "  <thead>\n",
       "    <tr style=\"text-align: right;\">\n",
       "      <th></th>\n",
       "      <th>Days</th>\n",
       "      <th>Total_Confirmed</th>\n",
       "      <th>POP_Density</th>\n",
       "    </tr>\n",
       "  </thead>\n",
       "  <tbody>\n",
       "    <tr>\n",
       "      <th>0</th>\n",
       "      <td>31</td>\n",
       "      <td>15</td>\n",
       "      <td>328200000.0</td>\n",
       "    </tr>\n",
       "    <tr>\n",
       "      <th>1</th>\n",
       "      <td>1</td>\n",
       "      <td>1</td>\n",
       "      <td>328200000.0</td>\n",
       "    </tr>\n",
       "    <tr>\n",
       "      <th>2</th>\n",
       "      <td>23</td>\n",
       "      <td>13</td>\n",
       "      <td>328200000.0</td>\n",
       "    </tr>\n",
       "    <tr>\n",
       "      <th>3</th>\n",
       "      <td>32</td>\n",
       "      <td>16</td>\n",
       "      <td>328200000.0</td>\n",
       "    </tr>\n",
       "    <tr>\n",
       "      <th>4</th>\n",
       "      <td>19</td>\n",
       "      <td>12</td>\n",
       "      <td>328200000.0</td>\n",
       "    </tr>\n",
       "  </tbody>\n",
       "</table>\n",
       "</div>"
      ],
      "text/plain": [
       "   Days  Total_Confirmed  POP_Density\n",
       "0    31               15  328200000.0\n",
       "1     1                1  328200000.0\n",
       "2    23               13  328200000.0\n",
       "3    32               16  328200000.0\n",
       "4    19               12  328200000.0"
      ]
     },
     "execution_count": 493,
     "metadata": {},
     "output_type": "execute_result"
    }
   ],
   "source": [
    "df=pd.concat([df_USA,df_UK,df_Italy,df_Pakistan,df_India,df_France,df_Spain],ignore_index=True)\n",
    "df.head()"
   ]
  },
  {
   "cell_type": "code",
   "execution_count": 494,
   "metadata": {},
   "outputs": [],
   "source": [
    "df_X=df[[\"Days\",\"POP_Density\"]]\n",
    "df_Y=df[\"Total_Confirmed\"]"
   ]
  },
  {
   "cell_type": "code",
   "execution_count": 495,
   "metadata": {},
   "outputs": [],
   "source": [
    "df_Bangladesh_X=df_Bangladesh[[\"Days\",\"POP_Density\"]]\n",
    "df_Bangladesh_Y=df_Bangladesh[\"Total_Confirmed\"]"
   ]
  },
  {
   "cell_type": "code",
   "execution_count": 496,
   "metadata": {},
   "outputs": [],
   "source": [
    "from sklearn.kernel_approximation import RBFSampler\n",
    "rbf_feature = RBFSampler(gamma=1, random_state=1,n_components=10)\n",
    "df_X = rbf_feature.fit_transform(df_X)\n",
    "df_Bangladesh_X = rbf_feature.fit_transform(df_Bangladesh_X)\n",
    "df_Bangladesh_Test= rbf_feature.fit_transform(df_Bangladesh_Test)"
   ]
  },
  {
   "cell_type": "code",
   "execution_count": 497,
   "metadata": {},
   "outputs": [
    {
     "name": "stdout",
     "output_type": "stream",
     "text": [
      "(480, 10)\n",
      "(27, 10)\n",
      "(24, 10)\n"
     ]
    }
   ],
   "source": [
    "print(df_X.shape)\n",
    "print(df_Bangladesh_X.shape)\n",
    "print(df_Bangladesh_Test.shape)"
   ]
  },
  {
   "cell_type": "code",
   "execution_count": 498,
   "metadata": {},
   "outputs": [],
   "source": [
    "df_X=np.diff(df_X, axis=0)\n",
    "df_Bangladesh_X=np.diff(df_Bangladesh_X, axis=0)\n",
    "df_Bangladesh_Test=np.diff(df_Bangladesh_Test, axis=0)"
   ]
  },
  {
   "cell_type": "code",
   "execution_count": 499,
   "metadata": {},
   "outputs": [
    {
     "name": "stdout",
     "output_type": "stream",
     "text": [
      "(479, 10)\n",
      "(26, 10)\n",
      "(23, 10)\n"
     ]
    }
   ],
   "source": [
    "print(df_X.shape)\n",
    "print(df_Bangladesh_X.shape)\n",
    "print(df_Bangladesh_Test.shape)"
   ]
  },
  {
   "cell_type": "code",
   "execution_count": 500,
   "metadata": {},
   "outputs": [],
   "source": [
    "df_Bangladesh_Y=np.diff(df_Bangladesh_Y,axis=0)\n",
    "df_Y=np.diff(df_Y,axis=0)"
   ]
  },
  {
   "cell_type": "code",
   "execution_count": 501,
   "metadata": {},
   "outputs": [
    {
     "name": "stdout",
     "output_type": "stream",
     "text": [
      "(26,)\n",
      "(479,)\n"
     ]
    }
   ],
   "source": [
    "print(df_Bangladesh_Y.shape)\n",
    "print(df_Y.shape)"
   ]
  },
  {
   "cell_type": "code",
   "execution_count": 502,
   "metadata": {},
   "outputs": [],
   "source": [
    "def predict_Linear(X,y,X_features_df,df_y,df_Bangladesh_Test,poly=None):\n",
    "   \n",
    "    model=LinearRegression()\n",
    "    if (poly==True):\n",
    "        poly = PolynomialFeatures(degree=3)\n",
    "        X = poly.fit_transform(X)\n",
    "        X_features_df = poly.fit_transform(X_features_df)\n",
    "        df_Bangladesh_Test = poly.fit_transform(df_Bangladesh_Test)\n",
    "        \n",
    "    model.fit(X_features_df,df_y)\n",
    "    predict_linear=model.predict(X)\n",
    "    \n",
    "    \n",
    "    mse_linear = sklearn.metrics.mean_squared_error(y, predict_linear)\n",
    "    rmse_linear = math.sqrt(mse_linear)\n",
    "    from sklearn.metrics import r2_score,mean_absolute_error\n",
    "    print(\"r2_score_linear\",r2_score(y, predict_linear))\n",
    "    print(\"mean_absolute_error_linear\",mean_absolute_error(y, predict_linear))\n",
    "    \n",
    "    predict_future_linear=model.predict(df_Bangladesh_Test)  \n",
    "   \n",
    "    \n",
    "    return mse_linear,rmse_linear,predict_linear,y_test,predict_future_linear"
   ]
  },
  {
   "cell_type": "code",
   "execution_count": 503,
   "metadata": {},
   "outputs": [
    {
     "name": "stdout",
     "output_type": "stream",
     "text": [
      "r2_score_linear -566522.0670441119\n",
      "mean_absolute_error_linear 77081.90404534248\n"
     ]
    }
   ],
   "source": [
    "mse_linear,rmse_linear,predict_linear,y_test,predict_future_linear= predict_Linear(df_Bangladesh_X,df_Bangladesh_Y,df_X,df_Y,df_Bangladesh_Test,poly=True)\n"
   ]
  },
  {
   "cell_type": "code",
   "execution_count": 504,
   "metadata": {},
   "outputs": [
    {
     "data": {
      "text/plain": [
       "106075.96426640575"
      ]
     },
     "execution_count": 504,
     "metadata": {},
     "output_type": "execute_result"
    }
   ],
   "source": [
    "rmse_linear"
   ]
  },
  {
   "cell_type": "code",
   "execution_count": 505,
   "metadata": {},
   "outputs": [
    {
     "data": {
      "text/plain": [
       "11252110195.047789"
      ]
     },
     "execution_count": 505,
     "metadata": {},
     "output_type": "execute_result"
    }
   ],
   "source": [
    "mse_linear"
   ]
  },
  {
   "cell_type": "code",
   "execution_count": 506,
   "metadata": {},
   "outputs": [
    {
     "data": {
      "text/plain": [
       "array([-193421,   78876,   31592,   32641,  -56285,  -55232, -129991,\n",
       "          9784, -168747,  -15254,  131022,  159638, -316280,  -33515,\n",
       "        126116,   34370,  -26377,   18483,   56669,   -2307,  141235,\n",
       "        -30339,   22849,   79083,   -9403,  -43237])"
      ]
     },
     "execution_count": 506,
     "metadata": {},
     "output_type": "execute_result"
    }
   ],
   "source": [
    "predict_linear=predict_linear.astype(int)\n",
    "predict_linear"
   ]
  },
  {
   "cell_type": "code",
   "execution_count": 507,
   "metadata": {},
   "outputs": [
    {
     "data": {
      "text/plain": [
       "21    9\n",
       "22    7\n",
       "23    6\n",
       "24    0\n",
       "25    5\n",
       "26    7\n",
       "Name: Confirmed, dtype: int64"
      ]
     },
     "execution_count": 507,
     "metadata": {},
     "output_type": "execute_result"
    }
   ],
   "source": [
    "y_test"
   ]
  },
  {
   "cell_type": "code",
   "execution_count": 508,
   "metadata": {},
   "outputs": [
    {
     "data": {
      "text/plain": [
       "array([  56021, -123827,   23670,  110337,  -82703,   43776,  -60721,\n",
       "        -59229,  220809,  -95065,  -84388,    3277,  -69865,   77814,\n",
       "        103440,   33053,   12700,   15773,  -94622,  -32790,   76466,\n",
       "        275013, -449573])"
      ]
     },
     "execution_count": 508,
     "metadata": {},
     "output_type": "execute_result"
    }
   ],
   "source": [
    "predict_future_linear=predict_future_linear.astype(int)\n",
    "predict_future_linear"
   ]
  }
 ],
 "metadata": {
  "kernelspec": {
   "display_name": "Python 3",
   "language": "python",
   "name": "python3"
  },
  "language_info": {
   "codemirror_mode": {
    "name": "ipython",
    "version": 3
   },
   "file_extension": ".py",
   "mimetype": "text/x-python",
   "name": "python",
   "nbconvert_exporter": "python",
   "pygments_lexer": "ipython3",
   "version": "3.7.3"
  }
 },
 "nbformat": 4,
 "nbformat_minor": 2
}
